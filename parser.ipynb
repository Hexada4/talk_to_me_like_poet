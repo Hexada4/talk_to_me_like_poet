{
 "cells": [
  {
   "cell_type": "code",
   "execution_count": 1,
   "id": "f6821797",
   "metadata": {},
   "outputs": [],
   "source": [
    "import requests\n",
    "import os\n",
    "import numpy as np\n",
    "from bs4 import BeautifulSoup as bs"
   ]
  },
  {
   "cell_type": "code",
   "execution_count": 4,
   "id": "2cb20537",
   "metadata": {},
   "outputs": [],
   "source": [
    "url = \"https://slova.org.ru/mandelshtam/\"\n",
    "path_to_dir = f\"{os.getcwd()}/poems_by_{url.split('/')[-2]}\"\n",
    "os.mkdir(path_to_dir)"
   ]
  },
  {
   "cell_type": "code",
   "execution_count": 5,
   "id": "4fa31a0a",
   "metadata": {},
   "outputs": [],
   "source": [
    "bs_obj = bs(requests.get(url).text)\n"
   ]
  },
  {
   "cell_type": "code",
   "execution_count": 6,
   "id": "be810716",
   "metadata": {},
   "outputs": [],
   "source": [
    "links = bs_obj.find(class_='grid-col-1').find('div')\n",
    "poems_links = np.array([i.get('href').split('/')[2] for i in links.find_all('a')])"
   ]
  },
  {
   "cell_type": "code",
   "execution_count": 8,
   "id": "7e03baf5",
   "metadata": {},
   "outputs": [
    {
     "name": "stdout",
     "output_type": "stream",
     "text": [
      "[INFO] amasterpushechnogo has installed\n",
      "[INFO] anebobudushchimberemenno has installed\n",
      "[INFO] a-posredi-tolpy-zadumchivyj-bradatyj has installed\n",
      "[INFO] abbato has installed\n",
      "[INFO] abbatperemenilos has installed\n",
      "[INFO] avtoportretvpodnjati has installed\n",
      "[INFO] admiraltejstvovstolitse has installed\n",
      "[INFO] ajjasofija has installed\n",
      "[INFO] akterirabochij has installed\n",
      "[INFO] amerikanbareshchedevits has installed\n",
      "[INFO] amerikankavdvadtsat has installed\n",
      "[INFO] ariost has installed\n",
      "[INFO] ariost-ii has installed\n",
      "[INFO] ah_nichego_ya_ne_vizhu has installed\n",
      "[INFO] akhmatovavpol has installed\n"
     ]
    }
   ],
   "source": [
    "for link in poems_links:\n",
    "    with open(f'{path_to_dir}/{link}.html', 'w') as f:\n",
    "        f.write(requests.get(f'{url}/{link}/').text)\n",
    "    print(f'[INFO] {link} has installed')\n"
   ]
  }
 ],
 "metadata": {
  "kernelspec": {
   "display_name": "Python 3 (ipykernel)",
   "language": "python",
   "name": "python3"
  },
  "language_info": {
   "codemirror_mode": {
    "name": "ipython",
    "version": 3
   },
   "file_extension": ".py",
   "mimetype": "text/x-python",
   "name": "python",
   "nbconvert_exporter": "python",
   "pygments_lexer": "ipython3",
   "version": "3.10.6"
  }
 },
 "nbformat": 4,
 "nbformat_minor": 5
}
